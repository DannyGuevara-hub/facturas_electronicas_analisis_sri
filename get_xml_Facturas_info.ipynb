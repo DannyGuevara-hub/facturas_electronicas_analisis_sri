{
  "nbformat": 4,
  "nbformat_minor": 0,
  "metadata": {
    "colab": {
      "name": "get xml Facturas info.ipynb",
      "provenance": []
    },
    "kernelspec": {
      "name": "python3",
      "display_name": "Python 3"
    }
  },
  "cells": [
    {
      "cell_type": "code",
      "metadata": {
        "id": "2swuKrnxaeFS",
        "colab_type": "code",
        "colab": {
          "base_uri": "https://localhost:8080/",
          "height": 1000
        },
        "outputId": "ac821104-4010-4009-8b95-eba011df06ba"
      },
      "source": [
        "import pandas as pd\n",
        "import numpy as np\n",
        "import xml.etree.ElementTree as ET\n",
        "#las facturas.xml deberán ser llamadas Factura (1).xml, Factura (2).xml, etc... para poder utilizar este algo\n",
        "#Una vez descargadas las facturas, todas deben ser subidas a este documento para el análisis\n",
        "\n",
        "#Inicio las listas que guardarán la información de cada factura\n",
        "l_razonSocial=[]\n",
        "l_nombreComercial = []\n",
        "l_claveAcceso = []\n",
        "l_obligadoContabilidad = []\n",
        "l_formaPago=[]\n",
        "lista_doce=[]\n",
        "lista_cero=[]\n",
        " \n",
        "\n",
        "for i in range (1,22): #En el caso que haya 21 facturas selecciono 2\n",
        "  tree = ET.parse('Factura ({}).xml'.format(i)) #Analizamos el document xml\n",
        "  root = tree.getroot() #obtenemos la raiz del doc\n",
        "  doc= root[4].text #obtenemos el texto del elemento 4 dado que el mismo dentro de el contiene un xml anidado\n",
        "  myfile = open(\"f_1.xml\", \"w\") #creamos un archivo temporal para analizar el contenido dentro del elemento 4 mencionado\n",
        "  myfile.write(doc) #creamos el documento\n",
        "  child_tree = ET.parse('f_1.xml') #analizamos el nuevo documento xml\n",
        "  child_root = child_tree.getroot() #obtenemos la raiz del nuevo documento que contiene toda la información de la factura\n",
        "\n",
        "    #Adquisición de facturas\n",
        "    #En las próximas líneas de código recopilamos información importante de cada factura\n",
        "\n",
        "  for infoTrib in child_root.findall('infoTributaria'): \n",
        "    razonSocial = infoTrib.find('razonSocial').text\n",
        "    nombreComercial = infoTrib.find('nombreComercial').text\n",
        "    claveAcceso = infoTrib.find('claveAcceso').text\n",
        "\n",
        "  obligadoConta = 'NA'\n",
        "  for infoFac in child_root.findall('./infoFactura/obligadoContabilidad'):\n",
        "    obligadoConta = infoFac.text\n",
        "  \n",
        "  \n",
        "  subtotales = []\n",
        "  for element in child_root.findall(\"./infoFactura/totalConImpuestos/totalImpuesto/codigoPorcentaje\"): \n",
        "      subtotales.append(float(element.text)) \n",
        "\n",
        "  l_bi=[]\n",
        "  for bi in child_root.findall(\"./infoFactura/totalConImpuestos/totalImpuesto/baseImponible\"): \n",
        "      l_bi.append(float(bi.text)) \n",
        "\n",
        "  for pago in child_root.findall(\"./infoFactura/pagos/pago/formaPago\"):\n",
        "      formaPago = float(pago.text)\n",
        "  \n",
        "  #En esta parte del codigo solo separo los valores de base imponible 12 y 0% en diferentes listas\n",
        "  #El código solo asigna valores para las columnas de subtotal 12 o 0 dependiendo de los valores.\n",
        "\n",
        "  if(len(subtotales)==2):\n",
        "    for i in range(len(subtotales)):\n",
        "      if(subtotales[i]==2):\n",
        "        lista_doce.append(l_bi[i])\n",
        "      else:\n",
        "        lista_cero.append(l_bi[i])\n",
        "  else: \n",
        "      for i in range(len(subtotales)):\n",
        "        if(subtotales[i]==2):\n",
        "          lista_doce.append(l_bi[i])\n",
        "          lista_cero.append(0)\n",
        "        else:\n",
        "          lista_cero.append(l_bi[i])\n",
        "          lista_doce.append(0)\n",
        "\n",
        "  #Recopilación de variables en una lista\n",
        "  l_razonSocial.append(razonSocial)\n",
        "  l_nombreComercial.append(nombreComercial)\n",
        "  l_claveAcceso.append(claveAcceso)\n",
        "  l_obligadoContabilidad.append(obligadoConta)\n",
        "  l_formaPago.append(formaPago)\n",
        "  subtotales=0 #reiniciamos la variable subtotales\n",
        "  \n",
        "#Estructura del dataframe\n",
        "data_facturas = {'razon_social': l_razonSocial, \n",
        "                'nombre_comercial': l_nombreComercial,\n",
        "                'clave_acceso':l_claveAcceso,\n",
        "                'obligado_contabilidad':l_obligadoContabilidad,\n",
        "                'formaPago':l_formaPago,\n",
        "                'subtotal_12pc':lista_doce,\n",
        "                'subtotal_0pc':lista_cero\n",
        "                }\n",
        "df = pd.DataFrame(data=data_facturas)\n",
        "df\n"
      ],
      "execution_count": 84,
      "outputs": [
        {
          "output_type": "execute_result",
          "data": {
            "text/html": [
              "<div>\n",
              "<style scoped>\n",
              "    .dataframe tbody tr th:only-of-type {\n",
              "        vertical-align: middle;\n",
              "    }\n",
              "\n",
              "    .dataframe tbody tr th {\n",
              "        vertical-align: top;\n",
              "    }\n",
              "\n",
              "    .dataframe thead th {\n",
              "        text-align: right;\n",
              "    }\n",
              "</style>\n",
              "<table border=\"1\" class=\"dataframe\">\n",
              "  <thead>\n",
              "    <tr style=\"text-align: right;\">\n",
              "      <th></th>\n",
              "      <th>razon_social</th>\n",
              "      <th>nombre_comercial</th>\n",
              "      <th>clave_acceso</th>\n",
              "      <th>obligado_contabilidad</th>\n",
              "      <th>formaPago</th>\n",
              "      <th>subtotal_12pc</th>\n",
              "      <th>subtotal_0pc</th>\n",
              "    </tr>\n",
              "  </thead>\n",
              "  <tbody>\n",
              "    <tr>\n",
              "      <th>0</th>\n",
              "      <td>LUIS HUMBERTO MORALES BONILLA</td>\n",
              "      <td>ESTACION DE SERVICIO RIO NEGRO</td>\n",
              "      <td>0103202001180182401000120012220001384790013847916</td>\n",
              "      <td>SI</td>\n",
              "      <td>1.0</td>\n",
              "      <td>22.32</td>\n",
              "      <td>0.00</td>\n",
              "    </tr>\n",
              "    <tr>\n",
              "      <th>1</th>\n",
              "      <td>COMERCIAL KYWI S.A.</td>\n",
              "      <td>COMERCIAL KYWI S.A.</td>\n",
              "      <td>0203202001179004122000120119040003005301790041217</td>\n",
              "      <td>SI</td>\n",
              "      <td>19.0</td>\n",
              "      <td>115.69</td>\n",
              "      <td>10.81</td>\n",
              "    </tr>\n",
              "    <tr>\n",
              "      <th>2</th>\n",
              "      <td>TORRES RODRIGUEZ JAIME RAMIRO</td>\n",
              "      <td>FULLCOLORS</td>\n",
              "      <td>0403202001180163725500120010030000166481801637216</td>\n",
              "      <td>SI</td>\n",
              "      <td>1.0</td>\n",
              "      <td>57.97</td>\n",
              "      <td>0.00</td>\n",
              "    </tr>\n",
              "    <tr>\n",
              "      <th>3</th>\n",
              "      <td>SANTANA JIMENEZ MARIA ELENA</td>\n",
              "      <td>AZULEJOS PELILEO</td>\n",
              "      <td>0503202001180176261600120020050000254693757116811</td>\n",
              "      <td>SI</td>\n",
              "      <td>1.0</td>\n",
              "      <td>85.09</td>\n",
              "      <td>0.00</td>\n",
              "    </tr>\n",
              "    <tr>\n",
              "      <th>4</th>\n",
              "      <td>DISTRIBUIDORA DE PRODUCTOS DE SEGURIDAD DISPRO...</td>\n",
              "      <td>DISPROSEG S.A.</td>\n",
              "      <td>0603202001179226117100120030010000229971019032518</td>\n",
              "      <td>SI</td>\n",
              "      <td>20.0</td>\n",
              "      <td>919.44</td>\n",
              "      <td>0.00</td>\n",
              "    </tr>\n",
              "    <tr>\n",
              "      <th>5</th>\n",
              "      <td>ALOAGAS CIA LTDA FacturaElectronicaEcuador.com</td>\n",
              "      <td>PETROCOMERCIAL ALOAG</td>\n",
              "      <td>0603202001179212891900120010090003444560034445612</td>\n",
              "      <td>SI</td>\n",
              "      <td>1.0</td>\n",
              "      <td>24.11</td>\n",
              "      <td>0.00</td>\n",
              "    </tr>\n",
              "    <tr>\n",
              "      <th>6</th>\n",
              "      <td>ULLOA ROMERO LADY LAURA</td>\n",
              "      <td>MIRLO ARTE EN METAL</td>\n",
              "      <td>0603202001010422477900120010520000023910000291318</td>\n",
              "      <td>SI</td>\n",
              "      <td>20.0</td>\n",
              "      <td>210.71</td>\n",
              "      <td>0.00</td>\n",
              "    </tr>\n",
              "    <tr>\n",
              "      <th>7</th>\n",
              "      <td>COMERCIAL KYWI S.A.</td>\n",
              "      <td>COMERCIAL KYWI S.A.</td>\n",
              "      <td>1103202001179004122000120049040003100671790041219</td>\n",
              "      <td>SI</td>\n",
              "      <td>1.0</td>\n",
              "      <td>23.85</td>\n",
              "      <td>0.00</td>\n",
              "    </tr>\n",
              "    <tr>\n",
              "      <th>8</th>\n",
              "      <td>LAS PALMERAS GROUPALMERAS  S.A.</td>\n",
              "      <td>LAS PALMERAS</td>\n",
              "      <td>1103202001179201433600120020020000396971234567814</td>\n",
              "      <td>SI</td>\n",
              "      <td>1.0</td>\n",
              "      <td>20.48</td>\n",
              "      <td>0.00</td>\n",
              "    </tr>\n",
              "    <tr>\n",
              "      <th>9</th>\n",
              "      <td>CHAIDE Y CHAIDE S.A.</td>\n",
              "      <td>CHAIDE Y CHAIDE S.A.</td>\n",
              "      <td>1203202001179024148300120280020000102229081068111</td>\n",
              "      <td>NA</td>\n",
              "      <td>19.0</td>\n",
              "      <td>637.55</td>\n",
              "      <td>0.00</td>\n",
              "    </tr>\n",
              "    <tr>\n",
              "      <th>10</th>\n",
              "      <td>COMOHOGAR S.A</td>\n",
              "      <td>COMOHOGAR S.A</td>\n",
              "      <td>1203202001179074611900120330140000476871790746112</td>\n",
              "      <td>SI</td>\n",
              "      <td>16.0</td>\n",
              "      <td>107.99</td>\n",
              "      <td>0.00</td>\n",
              "    </tr>\n",
              "    <tr>\n",
              "      <th>11</th>\n",
              "      <td>COMERCIAL KYWI S.A.</td>\n",
              "      <td>COMERCIAL KYWI S.A.</td>\n",
              "      <td>1303202001179004122000120119040003026411790041215</td>\n",
              "      <td>SI</td>\n",
              "      <td>1.0</td>\n",
              "      <td>44.94</td>\n",
              "      <td>0.00</td>\n",
              "    </tr>\n",
              "    <tr>\n",
              "      <th>12</th>\n",
              "      <td>JORGE TOVIAS PICO ALDAS</td>\n",
              "      <td>ESTACION DE SERVICIO PICO NUÑEZ</td>\n",
              "      <td>1403202001180240343400120020010001590784773837615</td>\n",
              "      <td>SI</td>\n",
              "      <td>1.0</td>\n",
              "      <td>19.64</td>\n",
              "      <td>0.00</td>\n",
              "    </tr>\n",
              "    <tr>\n",
              "      <th>13</th>\n",
              "      <td>RESTAURANTE LOS TRONCOS RELOT CIA. LTDA.</td>\n",
              "      <td>LOS TRONCOS CIA. LTDA.</td>\n",
              "      <td>1403202001179236556200120010020000300971234567811</td>\n",
              "      <td>SI</td>\n",
              "      <td>1.0</td>\n",
              "      <td>90.05</td>\n",
              "      <td>0.00</td>\n",
              "    </tr>\n",
              "    <tr>\n",
              "      <th>14</th>\n",
              "      <td>BANCO PICHINCHA CA</td>\n",
              "      <td>BANCO PICHINCHA CA</td>\n",
              "      <td>2403202001179001093700120011670048671830486718314</td>\n",
              "      <td>SI</td>\n",
              "      <td>20.0</td>\n",
              "      <td>4.86</td>\n",
              "      <td>71.07</td>\n",
              "    </tr>\n",
              "    <tr>\n",
              "      <th>15</th>\n",
              "      <td>CASTILLO GOMEZ OLGA MARIA</td>\n",
              "      <td>CASTILLO GOMEZ OLGA MARIA</td>\n",
              "      <td>2803202001150056082400120050160008359761234567810</td>\n",
              "      <td>SI</td>\n",
              "      <td>20.0</td>\n",
              "      <td>79.57</td>\n",
              "      <td>44.78</td>\n",
              "    </tr>\n",
              "    <tr>\n",
              "      <th>16</th>\n",
              "      <td>SINDICATO DE CHOFER PROFESIONALES DEL CANTON B...</td>\n",
              "      <td>SINDICATO DE CHOFERES PROFESIONALES DEL CANTON...</td>\n",
              "      <td>2803202001189013967800120020110002633760000000012</td>\n",
              "      <td>SI</td>\n",
              "      <td>1.0</td>\n",
              "      <td>16.96</td>\n",
              "      <td>0.00</td>\n",
              "    </tr>\n",
              "    <tr>\n",
              "      <th>17</th>\n",
              "      <td>CASTILLO GOMEZ OLGA MARIA</td>\n",
              "      <td>CASTILLO GOMEZ OLGA MARIA</td>\n",
              "      <td>2803202001150056082400120050160008359811234567818</td>\n",
              "      <td>SI</td>\n",
              "      <td>1.0</td>\n",
              "      <td>27.32</td>\n",
              "      <td>0.00</td>\n",
              "    </tr>\n",
              "    <tr>\n",
              "      <th>18</th>\n",
              "      <td>CASTILLO GOMEZ OLGA MARIA</td>\n",
              "      <td>CASTILLO GOMEZ OLGA MARIA</td>\n",
              "      <td>2903202001150056082400120050130009116691234567810</td>\n",
              "      <td>SI</td>\n",
              "      <td>1.0</td>\n",
              "      <td>79.73</td>\n",
              "      <td>72.40</td>\n",
              "    </tr>\n",
              "    <tr>\n",
              "      <th>19</th>\n",
              "      <td>CASTILLO GOMEZ OLGA MARIA</td>\n",
              "      <td>CASTILLO GOMEZ OLGA MARIA</td>\n",
              "      <td>2903202001150056082400120050130009116701234567816</td>\n",
              "      <td>SI</td>\n",
              "      <td>1.0</td>\n",
              "      <td>9.91</td>\n",
              "      <td>23.70</td>\n",
              "    </tr>\n",
              "    <tr>\n",
              "      <th>20</th>\n",
              "      <td>BANCO PICHINCHA CA</td>\n",
              "      <td>BANCO PICHINCHA CA</td>\n",
              "      <td>3103202001179001093700120011710075956970759569711</td>\n",
              "      <td>SI</td>\n",
              "      <td>20.0</td>\n",
              "      <td>67.14</td>\n",
              "      <td>0.00</td>\n",
              "    </tr>\n",
              "  </tbody>\n",
              "</table>\n",
              "</div>"
            ],
            "text/plain": [
              "                                         razon_social  ... subtotal_0pc\n",
              "0                       LUIS HUMBERTO MORALES BONILLA  ...         0.00\n",
              "1                                 COMERCIAL KYWI S.A.  ...        10.81\n",
              "2                       TORRES RODRIGUEZ JAIME RAMIRO  ...         0.00\n",
              "3                         SANTANA JIMENEZ MARIA ELENA  ...         0.00\n",
              "4   DISTRIBUIDORA DE PRODUCTOS DE SEGURIDAD DISPRO...  ...         0.00\n",
              "5      ALOAGAS CIA LTDA FacturaElectronicaEcuador.com  ...         0.00\n",
              "6                             ULLOA ROMERO LADY LAURA  ...         0.00\n",
              "7                                 COMERCIAL KYWI S.A.  ...         0.00\n",
              "8                     LAS PALMERAS GROUPALMERAS  S.A.  ...         0.00\n",
              "9                                CHAIDE Y CHAIDE S.A.  ...         0.00\n",
              "10                                      COMOHOGAR S.A  ...         0.00\n",
              "11                                COMERCIAL KYWI S.A.  ...         0.00\n",
              "12                          JORGE TOVIAS PICO ALDAS    ...         0.00\n",
              "13           RESTAURANTE LOS TRONCOS RELOT CIA. LTDA.  ...         0.00\n",
              "14                                 BANCO PICHINCHA CA  ...        71.07\n",
              "15                          CASTILLO GOMEZ OLGA MARIA  ...        44.78\n",
              "16  SINDICATO DE CHOFER PROFESIONALES DEL CANTON B...  ...         0.00\n",
              "17                          CASTILLO GOMEZ OLGA MARIA  ...         0.00\n",
              "18                          CASTILLO GOMEZ OLGA MARIA  ...        72.40\n",
              "19                          CASTILLO GOMEZ OLGA MARIA  ...        23.70\n",
              "20                                 BANCO PICHINCHA CA  ...         0.00\n",
              "\n",
              "[21 rows x 7 columns]"
            ]
          },
          "metadata": {
            "tags": []
          },
          "execution_count": 84
        }
      ]
    },
    {
      "cell_type": "code",
      "metadata": {
        "id": "NJ6-ftxgbGKT",
        "colab_type": "code",
        "colab": {}
      },
      "source": [
        ""
      ],
      "execution_count": 0,
      "outputs": []
    },
    {
      "cell_type": "code",
      "metadata": {
        "id": "sUD601C98o7M",
        "colab_type": "code",
        "colab": {}
      },
      "source": [
        ""
      ],
      "execution_count": 0,
      "outputs": []
    },
    {
      "cell_type": "code",
      "metadata": {
        "id": "LPvzyl3S8o1u",
        "colab_type": "code",
        "colab": {}
      },
      "source": [
        ""
      ],
      "execution_count": 0,
      "outputs": []
    },
    {
      "cell_type": "code",
      "metadata": {
        "id": "t9Of6nYt8owu",
        "colab_type": "code",
        "colab": {}
      },
      "source": [
        ""
      ],
      "execution_count": 0,
      "outputs": []
    },
    {
      "cell_type": "code",
      "metadata": {
        "id": "-2vgacGm8or7",
        "colab_type": "code",
        "colab": {}
      },
      "source": [
        ""
      ],
      "execution_count": 0,
      "outputs": []
    },
    {
      "cell_type": "code",
      "metadata": {
        "id": "eDJzE_VV8ol2",
        "colab_type": "code",
        "colab": {}
      },
      "source": [
        ""
      ],
      "execution_count": 0,
      "outputs": []
    },
    {
      "cell_type": "code",
      "metadata": {
        "id": "UrWpkWo48ob1",
        "colab_type": "code",
        "colab": {}
      },
      "source": [
        ""
      ],
      "execution_count": 0,
      "outputs": []
    },
    {
      "cell_type": "code",
      "metadata": {
        "id": "5KGrK3yPbcWT",
        "colab_type": "code",
        "colab": {
          "base_uri": "https://localhost:8080/",
          "height": 52
        },
        "outputId": "ae6ad33a-48f3-4e6a-ae19-b5a49f7e0969"
      },
      "source": [
        ""
      ],
      "execution_count": 69,
      "outputs": [
        {
          "output_type": "stream",
          "text": [
            "[2.0]\n",
            "[107.99]\n"
          ],
          "name": "stdout"
        }
      ]
    },
    {
      "cell_type": "code",
      "metadata": {
        "id": "KZ4Lgd-PLFM7",
        "colab_type": "code",
        "colab": {}
      },
      "source": [
        ""
      ],
      "execution_count": 0,
      "outputs": []
    },
    {
      "cell_type": "code",
      "metadata": {
        "id": "4PkUKOrOMnOy",
        "colab_type": "code",
        "colab": {
          "base_uri": "https://localhost:8080/",
          "height": 35
        },
        "outputId": "27d2886b-9b69-4bd6-cc56-b870e3e67322"
      },
      "source": [
        ""
      ],
      "execution_count": 61,
      "outputs": [
        {
          "output_type": "execute_result",
          "data": {
            "text/plain": [
              "[0]"
            ]
          },
          "metadata": {
            "tags": []
          },
          "execution_count": 61
        }
      ]
    },
    {
      "cell_type": "code",
      "metadata": {
        "id": "tfEzFaVFv-WQ",
        "colab_type": "code",
        "colab": {}
      },
      "source": [
        ""
      ],
      "execution_count": 0,
      "outputs": []
    },
    {
      "cell_type": "code",
      "metadata": {
        "id": "Nf4ktmzFcDc0",
        "colab_type": "code",
        "colab": {}
      },
      "source": [
        ""
      ],
      "execution_count": 0,
      "outputs": []
    },
    {
      "cell_type": "code",
      "metadata": {
        "id": "YMlTa329cEZt",
        "colab_type": "code",
        "colab": {}
      },
      "source": [
        ""
      ],
      "execution_count": 0,
      "outputs": []
    },
    {
      "cell_type": "code",
      "metadata": {
        "id": "JS6lFMj8cx28",
        "colab_type": "code",
        "colab": {}
      },
      "source": [
        ""
      ],
      "execution_count": 0,
      "outputs": []
    }
  ]
}